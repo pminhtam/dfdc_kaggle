{
 "cells": [
  {
   "cell_type": "code",
   "execution_count": 4,
   "metadata": {},
   "outputs": [],
   "source": [
    "import glob"
   ]
  },
  {
   "cell_type": "code",
   "execution_count": 5,
   "metadata": {},
   "outputs": [],
   "source": [
    "df_test = glob.glob(\"/hdd/tam/df_in_the_wild/fake_test/*/fake/*/*.png\")\n",
    "df_train = glob.glob(\"/hdd/tam/df_in_the_wild/fake_train/*/fake/*/*.png\")\n"
   ]
  },
  {
   "cell_type": "code",
   "execution_count": 9,
   "metadata": {},
   "outputs": [],
   "source": [
    "real_test = glob.glob(\"/hdd/tam/df_in_the_wild/real_test/*/real/*/*.png\")\n",
    "real_train = glob.glob(\"/hdd/tam/df_in_the_wild/real_train/*/real/*/*.png\")\n"
   ]
  },
  {
   "cell_type": "code",
   "execution_count": 13,
   "metadata": {},
   "outputs": [
    {
     "data": {
      "text/plain": [
       "['/hdd/tam/df_in_the_wild/fake_test/17/fake/23/652.png',\n",
       " '/hdd/tam/df_in_the_wild/fake_test/17/fake/23/596.png',\n",
       " '/hdd/tam/df_in_the_wild/fake_test/17/fake/23/529.png']"
      ]
     },
     "execution_count": 13,
     "metadata": {},
     "output_type": "execute_result"
    }
   ],
   "source": [
    "df_test[:3]"
   ]
  },
  {
   "cell_type": "code",
   "execution_count": 18,
   "metadata": {},
   "outputs": [
    {
     "data": {
      "text/plain": [
       "107003"
      ]
     },
     "execution_count": 18,
     "metadata": {},
     "output_type": "execute_result"
    }
   ],
   "source": [
    "len(df_test)"
   ]
  },
  {
   "cell_type": "code",
   "execution_count": 12,
   "metadata": {},
   "outputs": [],
   "source": [
    "import shutil"
   ]
  },
  {
   "cell_type": "code",
   "execution_count": 20,
   "metadata": {},
   "outputs": [],
   "source": [
    "for i in df_test:\n",
    "    name = i.split(\"/\")[-4] + \"_\" + i.split(\"/\")[-2] + \"_\" + i.split(\"/\")[-1]\n",
    "#     print(name)\n",
    "    shutil.copy(i,\"/hdd/tam/df_in_the_wild/test/1_df/\"+name)"
   ]
  },
  {
   "cell_type": "code",
   "execution_count": 22,
   "metadata": {},
   "outputs": [],
   "source": [
    "from tqdm import tqdm"
   ]
  },
  {
   "cell_type": "code",
   "execution_count": null,
   "metadata": {},
   "outputs": [
    {
     "name": "stderr",
     "output_type": "stream",
     "text": [
      " 67%|██████▋   | 421056/632561 [43:31<5:32:28, 10.60it/s] "
     ]
    }
   ],
   "source": [
    "for i in tqdm(df_train):\n",
    "    name = i.split(\"/\")[-4] + \"_\" + i.split(\"/\")[-2] + \"_\" + i.split(\"/\")[-1]\n",
    "    shutil.copy(i,\"/hdd/tam/df_in_the_wild/train/1_df/\"+name)"
   ]
  },
  {
   "cell_type": "code",
   "execution_count": 24,
   "metadata": {},
   "outputs": [
    {
     "name": "stderr",
     "output_type": "stream",
     "text": [
      "100%|██████████| 58659/58659 [08:37<00:00, 113.44it/s] \n"
     ]
    }
   ],
   "source": [
    "for i in tqdm(real_test):\n",
    "    name = i.split(\"/\")[-4] + \"_\" + i.split(\"/\")[-2] + \"_\" + i.split(\"/\")[-1]\n",
    "    shutil.copy(i,\"/hdd/tam/df_in_the_wild/test/0_real/\"+name)"
   ]
  },
  {
   "cell_type": "code",
   "execution_count": 25,
   "metadata": {},
   "outputs": [
    {
     "name": "stderr",
     "output_type": "stream",
     "text": [
      " 98%|█████████▊| 372560/381876 [33:13<00:53, 174.87it/s] IOPub message rate exceeded.\n",
      "The notebook server will temporarily stop sending output\n",
      "to the client in order to avoid crashing it.\n",
      "To change this limit, set the config variable\n",
      "`--NotebookApp.iopub_msg_rate_limit`.\n",
      "\n",
      "Current values:\n",
      "NotebookApp.iopub_msg_rate_limit=1000.0 (msgs/sec)\n",
      "NotebookApp.rate_limit_window=3.0 (secs)\n",
      "\n"
     ]
    }
   ],
   "source": [
    "for i in tqdm(real_train):\n",
    "    name = i.split(\"/\")[-4] + \"_\" + i.split(\"/\")[-2] + \"_\" + i.split(\"/\")[-1]\n",
    "    shutil.copy(i,\"/hdd/tam/df_in_the_wild/train/0_real/\"+name)"
   ]
  },
  {
   "cell_type": "code",
   "execution_count": null,
   "metadata": {},
   "outputs": [],
   "source": []
  }
 ],
 "metadata": {
  "kernelspec": {
   "display_name": "Python 3",
   "language": "python",
   "name": "python3"
  },
  "language_info": {
   "codemirror_mode": {
    "name": "ipython",
    "version": 3
   },
   "file_extension": ".py",
   "mimetype": "text/x-python",
   "name": "python",
   "nbconvert_exporter": "python",
   "pygments_lexer": "ipython3",
   "version": "3.7.6"
  }
 },
 "nbformat": 4,
 "nbformat_minor": 4
}
