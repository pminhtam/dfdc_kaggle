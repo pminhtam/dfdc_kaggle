{
 "cells": [
  {
   "cell_type": "code",
   "execution_count": 1,
   "metadata": {},
   "outputs": [],
   "source": [
    "import pickle\n",
    "import json\n",
    "import os\n",
    "import numpy as np\n",
    "from os.path import isfile, join\n",
    "import cv2\n",
    "import matplotlib.pyplot as plt\n",
    "from tqdm import tqdm"
   ]
  },
  {
   "cell_type": "code",
   "execution_count": 2,
   "metadata": {},
   "outputs": [],
   "source": [
    "data_analysis = pickle.load(open(\"data_analysis.pkl\",'rb'))\n",
    "path_real = \"/data/tam/kaggle/raw_img/real/\"\n",
    "path_df = \"/data/tam/kaggle/raw_img/df/\"\n",
    "\n",
    "rr = 0\n",
    "ff = 0"
   ]
  },
  {
   "cell_type": "code",
   "execution_count": 3,
   "metadata": {},
   "outputs": [
    {
     "data": {
      "text/plain": [
       "{'df': [{'tkbvfagvff.mp4': 18},\n",
       "  {'pvohowzowy.mp4': 18},\n",
       "  {'ilcphuyvrm.mp4': 18}],\n",
       " 'part': 18}"
      ]
     },
     "execution_count": 3,
     "metadata": {},
     "output_type": "execute_result"
    }
   ],
   "source": [
    "data_analysis['bgcvbayfhn.mp4']"
   ]
  },
  {
   "cell_type": "code",
   "execution_count": 4,
   "metadata": {},
   "outputs": [],
   "source": [
    "real = pickle.load(open(path_real + 'bgcvbayfhn.mp4'+\".pkl\",'rb'))"
   ]
  },
  {
   "cell_type": "code",
   "execution_count": null,
   "metadata": {},
   "outputs": [
    {
     "name": "stderr",
     "output_type": "stream",
     "text": [
      " 54%|█████▍    | 10395/19154 [37:49<3:46:07,  1.55s/it]"
     ]
    }
   ],
   "source": [
    "\n",
    "for r_name in tqdm(data_analysis):\n",
    "#     print(data_analysis[r_name]['part'])\n",
    "#     if data_analysis[r_name]['part'] in [14,15,16,17]:\n",
    "#     if data_analysis[r_name]['part'] in [18,19,33,34]:\n",
    "#     if data_analysis[r_name]['part'] in [35,37,38,39,41,42,43,45,46,47]:\n",
    "    if data_analysis[r_name]['part'] in [7,21,23,25,26,27,29,30,31,44,48,49]:\n",
    "\n",
    "#         print(i)\n",
    "#         if os.path.exists(join(\"/hdd/tam/kaggle/extract_raw_img/real\", r_name + \"_0\" +\".jpg\")):\n",
    "#             continue\n",
    "        real = pickle.load(open(path_real + r_name+\".pkl\",'rb'))\n",
    "        rr += len(real)\n",
    "        real_resizes = []\n",
    "        for j in range(len(real)):\n",
    "            real_resize = cv2.resize(real[j],(256,256))\n",
    "            plt.imsave(join(\"/data/tam/kaggle/extract_raw_img/real\", r_name + \"_\" + str(j)+\".jpg\"),real_resize,format='jpg')\n",
    "            real_resizes.append(real_resize)\n",
    "        for f in data_analysis[r_name][\"df\"]:\n",
    "#             print(list(f.keys()))\n",
    "            f_name = list(f.keys())[0]\n",
    "            df = pickle.load(open(path_df + f_name+\".pkl\",'rb'))\n",
    "        \n",
    "            for j in range(min(len(real),len(df))):\n",
    "#                 print(j,\"   \", np.average(cv2.resize(real[j],(256,256)) - cv2.resize(df[j],(256,256))))\n",
    "                try:\n",
    "#                     if np.average(cv2.resize(real[j],(256,256)) - cv2.resize(df[j],(256,256))) > 120:\n",
    "                    df_resize = cv2.resize(df[j],(256,256))\n",
    "                    if np.average(real_resizes[j] -df_resize ) > 120:\n",
    "                        plt.imsave(join(\"/data/tam/kaggle/extract_raw_img/df\", f_name + \"_\" + str(j)+\".jpg\"),df_resize,format='jpg')\n",
    "                        ff+=1\n",
    "                except:\n",
    "                    continue"
   ]
  },
  {
   "cell_type": "code",
   "execution_count": 4,
   "metadata": {},
   "outputs": [
    {
     "data": {
      "text/plain": [
       "217300"
      ]
     },
     "execution_count": 4,
     "metadata": {},
     "output_type": "execute_result"
    }
   ],
   "source": [
    "ff"
   ]
  },
  {
   "cell_type": "code",
   "execution_count": 5,
   "metadata": {},
   "outputs": [
    {
     "data": {
      "text/plain": [
       "190609"
      ]
     },
     "execution_count": 5,
     "metadata": {},
     "output_type": "execute_result"
    }
   ],
   "source": [
    "rr"
   ]
  },
  {
   "cell_type": "code",
   "execution_count": null,
   "metadata": {},
   "outputs": [],
   "source": []
  }
 ],
 "metadata": {
  "kernelspec": {
   "display_name": "Python 3",
   "language": "python",
   "name": "python3"
  },
  "language_info": {
   "codemirror_mode": {
    "name": "ipython",
    "version": 3
   },
   "file_extension": ".py",
   "mimetype": "text/x-python",
   "name": "python",
   "nbconvert_exporter": "python",
   "pygments_lexer": "ipython3",
   "version": "3.7.6"
  }
 },
 "nbformat": 4,
 "nbformat_minor": 4
}
