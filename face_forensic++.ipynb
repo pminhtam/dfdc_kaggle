{
 "cells": [
  {
   "cell_type": "code",
   "execution_count": 16,
   "metadata": {},
   "outputs": [],
   "source": [
    "import os\n",
    "import glob\n",
    "import numpy as np\n",
    "import shutil\n",
    "from tqdm import tqdm"
   ]
  },
  {
   "cell_type": "code",
   "execution_count": 17,
   "metadata": {},
   "outputs": [],
   "source": [
    "all_0_real = glob.glob(\"/hdd/tam/ff/original_sequences/images/*.jpg\")"
   ]
  },
  {
   "cell_type": "code",
   "execution_count": 18,
   "metadata": {},
   "outputs": [],
   "source": [
    "train_0_real, test_0_real = np.split(np.array(all_0_real),[int(len(all_0_real)*0.8)])"
   ]
  },
  {
   "cell_type": "code",
   "execution_count": null,
   "metadata": {},
   "outputs": [
    {
     "name": "stderr",
     "output_type": "stream",
     "text": [
      "  7%|▋         | 6733/101512 [04:56<1:16:56, 20.53it/s] "
     ]
    }
   ],
   "source": [
    "for i in tqdm(train_0_real):\n",
    "    shutil.copy(i,\"/hdd/tam/ff/images/train/0_real\")\n",
    "for i in test_0_real:\n",
    "    shutil.copy(i,\"/hdd/tam/ff/images/test/0_real\")"
   ]
  },
  {
   "cell_type": "code",
   "execution_count": null,
   "metadata": {},
   "outputs": [],
   "source": [
    "all_1_df = glob.glob(\"/hdd/tam/ff/manipulated_sequences/Deepfakes/images/*.jpg\")\n",
    "train_1_df, test_1_df = np.split(np.array(all_1_df),[int(len(all_1_df)*0.8)])\n",
    "\n",
    "for i in tqdm(train_1_df):\n",
    "    shutil.copy(i,\"/hdd/tam/ff/images/train/1_df\")\n",
    "for i in test_1_df:\n",
    "    shutil.copy(i,\"/hdd/tam/ff/images/test/1_df\")\n",
    "del all_1_df,train_1_df,test_1_df"
   ]
  },
  {
   "cell_type": "code",
   "execution_count": null,
   "metadata": {},
   "outputs": [],
   "source": [
    "all_1_f2f = glob.glob(\"/hdd/tam/ff/manipulated_sequences/Face2Face/images/*.jpg\")\n",
    "train_1_f2f, test_1_f2f = np.split(np.array(all_1_f2f),[int(len(all_1_f2f)*0.8)])\n",
    "\n",
    "for i in tqdm(train_1_f2f):\n",
    "    shutil.copy(i,\"/hdd/tam/ff/images/train/1_f2f\")\n",
    "for i in test_1_f2f:\n",
    "    shutil.copy(i,\"/hdd/tam/ff/images/test/1_f2f\")\n",
    "del all_1_f2f,train_1_f2f, test_1_f2f"
   ]
  },
  {
   "cell_type": "code",
   "execution_count": null,
   "metadata": {},
   "outputs": [],
   "source": [
    "all_1_fs = glob.glob(\"/hdd/tam/ff/manipulated_sequences/FaceSwap/images/*.jpg\")\n",
    "train_1_fs, test_1_fs = np.split(np.array(all_1_fs),[int(len(all_1_fs)*0.8)])\n",
    "\n",
    "for i in tqdm(train_1_fs):\n",
    "    shutil.copy(i,\"/hdd/tam/ff/images/train/1_fs\")\n",
    "for i in test_1_fs:\n",
    "    shutil.copy(i,\"/hdd/tam/ff/images/test/1_fs\")\n",
    "del all_1_fs,train_1_fs, test_1_fs"
   ]
  },
  {
   "cell_type": "code",
   "execution_count": null,
   "metadata": {},
   "outputs": [],
   "source": [
    "all_1_nt = glob.glob(\"/hdd/tam/ff/manipulated_sequences/NeuralTextures/images/*.jpg\")\n",
    "train_1_nt, test_1_nt = np.split(np.array(all_1_nt),[int(len(all_1_nt)*0.8)])\n",
    "\n",
    "for i in tqdm(train_1_nt):\n",
    "    shutil.copy(i,\"/hdd/tam/ff/images/train/1_nt\")\n",
    "for i in test_1_nt:\n",
    "    shutil.copy(i,\"/hdd/tam/ff/images/test/1_nt\")\n",
    "del all_1_nt,train_1_nt, test_1_nt"
   ]
  }
 ],
 "metadata": {
  "kernelspec": {
   "display_name": "Python 3",
   "language": "python",
   "name": "python3"
  },
  "language_info": {
   "codemirror_mode": {
    "name": "ipython",
    "version": 3
   },
   "file_extension": ".py",
   "mimetype": "text/x-python",
   "name": "python",
   "nbconvert_exporter": "python",
   "pygments_lexer": "ipython3",
   "version": "3.7.6"
  }
 },
 "nbformat": 4,
 "nbformat_minor": 4
}
