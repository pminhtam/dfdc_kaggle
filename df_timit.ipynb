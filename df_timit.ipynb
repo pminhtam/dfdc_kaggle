{
 "cells": [
  {
   "cell_type": "code",
   "execution_count": 8,
   "metadata": {},
   "outputs": [],
   "source": [
    "import glob\n",
    "import shutil"
   ]
  },
  {
   "cell_type": "code",
   "execution_count": 13,
   "metadata": {},
   "outputs": [],
   "source": [
    "test = glob.glob(\"/hdd/tam/df_timit/vidtimit/test/*/video/*/*\")\n",
    "train = glob.glob(\"/hdd/tam/df_timit/vidtimit/train/*/video/*/*\")\n"
   ]
  },
  {
   "cell_type": "code",
   "execution_count": 12,
   "metadata": {},
   "outputs": [
    {
     "data": {
      "text/plain": [
       "['',\n",
       " 'hdd',\n",
       " 'tam',\n",
       " 'df_timit',\n",
       " 'vidtimit',\n",
       " 'train',\n",
       " 'fjem0',\n",
       " 'video',\n",
       " 'sx274',\n",
       " '006']"
      ]
     },
     "execution_count": 12,
     "metadata": {},
     "output_type": "execute_result"
    }
   ],
   "source": [
    "train[0].split(\"/\")"
   ]
  },
  {
   "cell_type": "code",
   "execution_count": 3,
   "metadata": {},
   "outputs": [
    {
     "data": {
      "text/plain": [
       "10462"
      ]
     },
     "execution_count": 3,
     "metadata": {},
     "output_type": "execute_result"
    }
   ],
   "source": [
    "len(test)"
   ]
  },
  {
   "cell_type": "code",
   "execution_count": 4,
   "metadata": {},
   "outputs": [
    {
     "data": {
      "text/plain": [
       "66584"
      ]
     },
     "execution_count": 4,
     "metadata": {},
     "output_type": "execute_result"
    }
   ],
   "source": [
    "len(train)"
   ]
  },
  {
   "cell_type": "code",
   "execution_count": 14,
   "metadata": {},
   "outputs": [],
   "source": [
    "from tqdm import tqdm"
   ]
  },
  {
   "cell_type": "code",
   "execution_count": 15,
   "metadata": {},
   "outputs": [
    {
     "name": "stderr",
     "output_type": "stream",
     "text": [
      "100%|██████████| 66584/66584 [03:09<00:00, 350.74it/s]\n"
     ]
    }
   ],
   "source": [
    "for i in tqdm(train):\n",
    "    name = i.split(\"/\")[-4] +\"_\"+ i.split(\"/\")[-2] +\"_\"+ i.split(\"/\")[-1] + \".jpeg\"\n",
    "    shutil.copy(i,\"/hdd/tam/df_timit/image/train/0_real/\"+name)"
   ]
  },
  {
   "cell_type": "code",
   "execution_count": 16,
   "metadata": {},
   "outputs": [
    {
     "name": "stderr",
     "output_type": "stream",
     "text": [
      "100%|██████████| 10462/10462 [00:15<00:00, 672.77it/s] \n"
     ]
    }
   ],
   "source": [
    "for i in tqdm(test):\n",
    "    name = i.split(\"/\")[-4] +\"_\"+ i.split(\"/\")[-2] +\"_\"+ i.split(\"/\")[-1] + \".jpeg\"\n",
    "    shutil.copy(i,\"/hdd/tam/df_timit/image/test/0_real/\"+name)"
   ]
  },
  {
   "cell_type": "code",
   "execution_count": 1,
   "metadata": {},
   "outputs": [],
   "source": [
    "train_set = \"/hdd/tam/df_timit/image/train/\"\n",
    "import torchvision.datasets as datasets\n",
    "\n",
    "dataset_train = datasets.ImageFolder(train_set)"
   ]
  },
  {
   "cell_type": "code",
   "execution_count": 2,
   "metadata": {},
   "outputs": [
    {
     "data": {
      "text/plain": [
       "['0_real', '1_df']"
      ]
     },
     "execution_count": 2,
     "metadata": {},
     "output_type": "execute_result"
    }
   ],
   "source": [
    "dataset_train.classes"
   ]
  },
  {
   "cell_type": "code",
   "execution_count": 4,
   "metadata": {},
   "outputs": [
    {
     "data": {
      "text/plain": [
       "95578"
      ]
     },
     "execution_count": 4,
     "metadata": {},
     "output_type": "execute_result"
    }
   ],
   "source": [
    "len(dataset_train.imgs)"
   ]
  },
  {
   "cell_type": "code",
   "execution_count": null,
   "metadata": {},
   "outputs": [],
   "source": []
  }
 ],
 "metadata": {
  "kernelspec": {
   "display_name": "Python 3",
   "language": "python",
   "name": "python3"
  },
  "language_info": {
   "codemirror_mode": {
    "name": "ipython",
    "version": 3
   },
   "file_extension": ".py",
   "mimetype": "text/x-python",
   "name": "python",
   "nbconvert_exporter": "python",
   "pygments_lexer": "ipython3",
   "version": "3.7.6"
  }
 },
 "nbformat": 4,
 "nbformat_minor": 4
}
